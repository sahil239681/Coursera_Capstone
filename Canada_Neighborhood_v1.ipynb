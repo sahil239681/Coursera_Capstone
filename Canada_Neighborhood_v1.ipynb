{
  "nbformat": 4,
  "nbformat_minor": 0,
  "metadata": {
    "colab": {
      "name": "Untitled0.ipynb",
      "provenance": [],
      "collapsed_sections": [],
      "authorship_tag": "ABX9TyOGdstjPLqpWpyeSLDoahoI"
    },
    "kernelspec": {
      "name": "python3",
      "display_name": "Python 3"
    }
  },
  "cells": [
    {
      "cell_type": "markdown",
      "metadata": {
        "id": "bAAvgV_6T6lc",
        "colab_type": "text"
      },
      "source": [
        "**Import Libraries**"
      ]
    },
    {
      "cell_type": "code",
      "metadata": {
        "id": "e9UparR6Gped",
        "colab_type": "code",
        "colab": {}
      },
      "source": [
        "import pandas as pd\n",
        "pd.set_option(\"display.max_columns\", None)\n",
        "pd.set_option(\"display.max_rows\", None)"
      ],
      "execution_count": 0,
      "outputs": []
    },
    {
      "cell_type": "markdown",
      "metadata": {
        "id": "yAC4xKjoUB2B",
        "colab_type": "text"
      },
      "source": [
        "Scrap data from Wikipedia page into a DataFrame"
      ]
    },
    {
      "cell_type": "code",
      "metadata": {
        "id": "P_3TJkz9Gs2X",
        "colab_type": "code",
        "colab": {}
      },
      "source": [
        "# send the GET request\n",
        "data = requests.get('https://en.wikipedia.org/wiki/List_of_postal_codes_of_Canada:_M').text"
      ],
      "execution_count": 0,
      "outputs": []
    },
    {
      "cell_type": "code",
      "metadata": {
        "id": "QFxxCEcIJbsv",
        "colab_type": "code",
        "colab": {}
      },
      "source": [
        "# parse data from the html into a beautifulsoup object\n",
        "from bs4 import BeautifulSoup\n",
        "soup = BeautifulSoup(website_url,'html.parser')"
      ],
      "execution_count": 0,
      "outputs": []
    },
    {
      "cell_type": "code",
      "metadata": {
        "id": "jYB5nJFrJkEr",
        "colab_type": "code",
        "colab": {}
      },
      "source": [
        "# create three lists to store table data\n",
        "postalCodeList = []\n",
        "boroughList = []\n",
        "neighborhoodList = []"
      ],
      "execution_count": 0,
      "outputs": []
    },
    {
      "cell_type": "code",
      "metadata": {
        "id": "hpe62bwyKSuU",
        "colab_type": "code",
        "colab": {}
      },
      "source": [
        "# find the table\n",
        "soup.find('table').find_all('tr')"
      ],
      "execution_count": 0,
      "outputs": []
    },
    {
      "cell_type": "code",
      "metadata": {
        "id": "r-3yyg5vKZ_5",
        "colab_type": "code",
        "colab": {}
      },
      "source": [
        "# find all the rows of the table\n",
        "soup.find('table').find_all('tr')\n",
        "\n",
        "# for each row of the table, find all the table data\n",
        "for row in soup.find('table').find_all('tr'):\n",
        "    cells = row.find_all('td')\n",
        "    if(len(cells) > 0):\n",
        "        postalCodeList.append(cells[0].text.rstrip('\\n'))\n",
        "        boroughList.append(cells[1].text.rstrip('\\n'))\n",
        "        neighborhoodList.append(cells[2].text.rstrip('\\n')) # avoid new lines in neighborhood cell"
      ],
      "execution_count": 0,
      "outputs": []
    },
    {
      "cell_type": "code",
      "metadata": {
        "id": "0HeNrfTZLATF",
        "colab_type": "code",
        "colab": {}
      },
      "source": [
        "toronto_df = pd.DataFrame({\"PostalCode\": postalCodeList,\n",
        "                           \"Borough\": boroughList,\n",
        "                           \"Neighborhood\": neighborhoodList})\n"
      ],
      "execution_count": 0,
      "outputs": []
    },
    {
      "cell_type": "markdown",
      "metadata": {
        "id": "ZmB8S2FxUGgC",
        "colab_type": "text"
      },
      "source": [
        "**Drop cells with a borough that is \"Not assigned\"**"
      ]
    },
    {
      "cell_type": "code",
      "metadata": {
        "id": "lEaTTzkSNo7f",
        "colab_type": "code",
        "colab": {}
      },
      "source": [
        "toronto_df_dropna = toronto_df[toronto_df.Borough != \"Not assigned\"]"
      ],
      "execution_count": 0,
      "outputs": []
    },
    {
      "cell_type": "markdown",
      "metadata": {
        "id": "pljmvkuRUMt1",
        "colab_type": "text"
      },
      "source": [
        "**Group neighborhoods in the same borough**"
      ]
    },
    {
      "cell_type": "code",
      "metadata": {
        "id": "tMBcpKP7OTMk",
        "colab_type": "code",
        "colab": {}
      },
      "source": [
        "toronto_df_grouped = toronto_df_dropna.groupby([\"PostalCode\", \"Borough\"]).agg(lambda x: ', '.join(x)).reset_index()"
      ],
      "execution_count": 0,
      "outputs": []
    },
    {
      "cell_type": "markdown",
      "metadata": {
        "id": "-4Ku8WCmUP95",
        "colab_type": "text"
      },
      "source": [
        "**For Neighborhood=\"Not assigned\", make the value the same as Borough**"
      ]
    },
    {
      "cell_type": "code",
      "metadata": {
        "id": "fRM5iEHYQYPb",
        "colab_type": "code",
        "colab": {}
      },
      "source": [
        "toronto_df_grouped['Neighborhood'] = list(map(lambda x,y: y if x == \"Not assigned\" else x  ,toronto_df_grouped['Neighborhood'],toronto_df_grouped['Borough']))"
      ],
      "execution_count": 0,
      "outputs": []
    },
    {
      "cell_type": "markdown",
      "metadata": {
        "id": "eYpwlyFlUTAT",
        "colab_type": "text"
      },
      "source": [
        "**Print the number of rows of the cleaned dataframe**"
      ]
    },
    {
      "cell_type": "code",
      "metadata": {
        "id": "Pofk6bXFT0HW",
        "colab_type": "code",
        "colab": {
          "base_uri": "https://localhost:8080/",
          "height": 35
        },
        "outputId": "a1ef6a44-7c6d-4846-bfa6-4526bc425be5"
      },
      "source": [
        "toronto_df_grouped.shape"
      ],
      "execution_count": 83,
      "outputs": [
        {
          "output_type": "execute_result",
          "data": {
            "text/plain": [
              "(103, 3)"
            ]
          },
          "metadata": {
            "tags": []
          },
          "execution_count": 83
        }
      ]
    }
  ]
}