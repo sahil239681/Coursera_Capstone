{
  "nbformat": 4,
  "nbformat_minor": 0,
  "metadata": {
    "colab": {
      "name": "Untitled0.ipynb",
      "provenance": [],
      "collapsed_sections": [],
      "authorship_tag": "ABX9TyP+Guog9vFd1aehg0ce/B7L",
      "include_colab_link": true
    },
    "kernelspec": {
      "name": "python3",
      "display_name": "Python 3"
    }
  },
  "cells": [
    {
      "cell_type": "markdown",
      "metadata": {
        "id": "view-in-github",
        "colab_type": "text"
      },
      "source": [
        "<a href=\"https://colab.research.google.com/github/sahil239681/Coursera_Capstone/blob/master/Toronto_v3.ipynb\" target=\"_parent\"><img src=\"https://colab.research.google.com/assets/colab-badge.svg\" alt=\"Open In Colab\"/></a>"
      ]
    },
    {
      "cell_type": "markdown",
      "metadata": {
        "id": "bAAvgV_6T6lc",
        "colab_type": "text"
      },
      "source": [
        "**Import Libraries**"
      ]
    },
    {
      "cell_type": "code",
      "metadata": {
        "id": "e9UparR6Gped",
        "colab_type": "code",
        "colab": {}
      },
      "source": [
        "import pandas as pd\n",
        "pd.set_option(\"display.max_columns\", None)\n",
        "pd.set_option(\"display.max_rows\", None)\n",
        "import json # library to handle JSON files\n",
        "\n",
        "from geopy.geocoders import Nominatim # convert an address into latitude and longitude values\n",
        "\n",
        "import requests # library to handle requests\n",
        "from bs4 import BeautifulSoup # library to parse HTML and XML documents\n",
        "\n",
        "from pandas.io.json import json_normalize # tranform JSON file into a pandas dataframe\n",
        "\n",
        "# Matplotlib and associated plotting modules\n",
        "import matplotlib.cm as cm\n",
        "import matplotlib.colors as colors\n",
        "\n",
        "# import k-means from clustering stage\n",
        "from sklearn.cluster import KMeans\n",
        "\n",
        "import folium # map rendering library"
      ],
      "execution_count": 0,
      "outputs": []
    },
    {
      "cell_type": "markdown",
      "metadata": {
        "id": "yAC4xKjoUB2B",
        "colab_type": "text"
      },
      "source": [
        "Scrap data from Wikipedia page into a DataFrame"
      ]
    },
    {
      "cell_type": "code",
      "metadata": {
        "id": "P_3TJkz9Gs2X",
        "colab_type": "code",
        "colab": {}
      },
      "source": [
        "# send the GET request\n",
        "data = requests.get('https://en.wikipedia.org/wiki/List_of_postal_codes_of_Canada:_M').text"
      ],
      "execution_count": 0,
      "outputs": []
    },
    {
      "cell_type": "code",
      "metadata": {
        "id": "QFxxCEcIJbsv",
        "colab_type": "code",
        "colab": {}
      },
      "source": [
        "# parse data from the html into a beautifulsoup object\n",
        "from bs4 import BeautifulSoup\n",
        "soup = BeautifulSoup(website_url,'html.parser')"
      ],
      "execution_count": 0,
      "outputs": []
    },
    {
      "cell_type": "code",
      "metadata": {
        "id": "jYB5nJFrJkEr",
        "colab_type": "code",
        "colab": {}
      },
      "source": [
        "# create three lists to store table data\n",
        "postalCodeList = []\n",
        "boroughList = []\n",
        "neighborhoodList = []"
      ],
      "execution_count": 0,
      "outputs": []
    },
    {
      "cell_type": "code",
      "metadata": {
        "id": "hpe62bwyKSuU",
        "colab_type": "code",
        "colab": {}
      },
      "source": [
        "# find the table\n",
        "soup.find('table').find_all('tr')"
      ],
      "execution_count": 0,
      "outputs": []
    },
    {
      "cell_type": "code",
      "metadata": {
        "id": "r-3yyg5vKZ_5",
        "colab_type": "code",
        "colab": {}
      },
      "source": [
        "# find all the rows of the table\n",
        "soup.find('table').find_all('tr')\n",
        "\n",
        "# for each row of the table, find all the table data\n",
        "for row in soup.find('table').find_all('tr'):\n",
        "    cells = row.find_all('td')\n",
        "    if(len(cells) > 0):\n",
        "        postalCodeList.append(cells[0].text.rstrip('\\n'))\n",
        "        boroughList.append(cells[1].text.rstrip('\\n'))\n",
        "        neighborhoodList.append(cells[2].text.rstrip('\\n')) # avoid new lines in neighborhood cell"
      ],
      "execution_count": 0,
      "outputs": []
    },
    {
      "cell_type": "code",
      "metadata": {
        "id": "0HeNrfTZLATF",
        "colab_type": "code",
        "colab": {}
      },
      "source": [
        "toronto_df = pd.DataFrame({\"PostalCode\": postalCodeList,\n",
        "                           \"Borough\": boroughList,\n",
        "                           \"Neighborhood\": neighborhoodList})\n"
      ],
      "execution_count": 0,
      "outputs": []
    },
    {
      "cell_type": "markdown",
      "metadata": {
        "id": "ZmB8S2FxUGgC",
        "colab_type": "text"
      },
      "source": [
        "**Drop cells with a borough that is \"Not assigned\"**"
      ]
    },
    {
      "cell_type": "code",
      "metadata": {
        "id": "lEaTTzkSNo7f",
        "colab_type": "code",
        "colab": {}
      },
      "source": [
        "toronto_df_dropna = toronto_df[toronto_df.Borough != \"Not assigned\"]"
      ],
      "execution_count": 0,
      "outputs": []
    },
    {
      "cell_type": "markdown",
      "metadata": {
        "id": "pljmvkuRUMt1",
        "colab_type": "text"
      },
      "source": [
        "**Group neighborhoods in the same borough**"
      ]
    },
    {
      "cell_type": "code",
      "metadata": {
        "id": "tMBcpKP7OTMk",
        "colab_type": "code",
        "colab": {}
      },
      "source": [
        "toronto_df_grouped = toronto_df_dropna.groupby([\"PostalCode\", \"Borough\"]).agg(lambda x: ', '.join(x)).reset_index()"
      ],
      "execution_count": 0,
      "outputs": []
    },
    {
      "cell_type": "markdown",
      "metadata": {
        "id": "-4Ku8WCmUP95",
        "colab_type": "text"
      },
      "source": [
        "**For Neighborhood=\"Not assigned\", make the value the same as Borough**"
      ]
    },
    {
      "cell_type": "code",
      "metadata": {
        "id": "fRM5iEHYQYPb",
        "colab_type": "code",
        "colab": {}
      },
      "source": [
        "toronto_df_grouped['Neighborhood'] = list(map(lambda x,y: y if x == \"Not assigned\" else x  ,toronto_df_grouped['Neighborhood'],toronto_df_grouped['Borough']))"
      ],
      "execution_count": 0,
      "outputs": []
    },
    {
      "cell_type": "markdown",
      "metadata": {
        "id": "eYpwlyFlUTAT",
        "colab_type": "text"
      },
      "source": [
        "**Print the number of rows of the cleaned dataframe**"
      ]
    },
    {
      "cell_type": "code",
      "metadata": {
        "id": "Pofk6bXFT0HW",
        "colab_type": "code",
        "colab": {
          "base_uri": "https://localhost:8080/",
          "height": 35
        },
        "outputId": "a1ef6a44-7c6d-4846-bfa6-4526bc425be5"
      },
      "source": [
        "toronto_df_grouped.shape"
      ],
      "execution_count": 83,
      "outputs": [
        {
          "output_type": "execute_result",
          "data": {
            "text/plain": [
              "(103, 3)"
            ]
          },
          "metadata": {
            "tags": []
          },
          "execution_count": 83
        }
      ]
    },
    {
      "cell_type": "markdown",
      "metadata": {
        "id": "pngonrCVbnc0",
        "colab_type": "text"
      },
      "source": [
        "**Load the coordinates from the csv file on Coursera**"
      ]
    },
    {
      "cell_type": "code",
      "metadata": {
        "id": "rHj31TubXIXa",
        "colab_type": "code",
        "colab": {}
      },
      "source": [
        "file = pd.read_csv('/content/Geospatial_Coordinates.csv', sep = ',')"
      ],
      "execution_count": 0,
      "outputs": []
    },
    {
      "cell_type": "code",
      "metadata": {
        "id": "xCZgPE8PXc1m",
        "colab_type": "code",
        "colab": {}
      },
      "source": [
        "file.rename(columns = {'Postal Code':'PostalCode'}, inplace = True)"
      ],
      "execution_count": 0,
      "outputs": []
    },
    {
      "cell_type": "markdown",
      "metadata": {
        "id": "6xli344mbybI",
        "colab_type": "text"
      },
      "source": [
        "**Merge two tables to get the coordinates**"
      ]
    },
    {
      "cell_type": "code",
      "metadata": {
        "id": "H0VEa8hiXd64",
        "colab_type": "code",
        "colab": {}
      },
      "source": [
        "Final_Df = pd.merge(toronto_df_grouped, file,on = 'PostalCode', how = 'left')"
      ],
      "execution_count": 0,
      "outputs": []
    },
    {
      "cell_type": "code",
      "metadata": {
        "id": "QLmVbqR3YD8p",
        "colab_type": "code",
        "colab": {}
      },
      "source": [
        "Final_Df['Neighborhood'] = Final_Df['Neighborhood'].apply(lambda x: x.replace(\"/\",\",\"))"
      ],
      "execution_count": 0,
      "outputs": []
    },
    {
      "cell_type": "markdown",
      "metadata": {
        "id": "XEHG1WZqceHv",
        "colab_type": "text"
      },
      "source": [
        "**Use geopy library to get the latitude and longitude values of Toronto**"
      ]
    },
    {
      "cell_type": "code",
      "metadata": {
        "id": "WalT6fWTcVka",
        "colab_type": "code",
        "colab": {
          "base_uri": "https://localhost:8080/",
          "height": 35
        },
        "outputId": "8557633f-cbc9-49b3-8677-b5d44cdaa66c"
      },
      "source": [
        "address = 'Toronto'\n",
        "\n",
        "geolocator = Nominatim(user_agent=\"my-application\")\n",
        "location = geolocator.geocode(address)\n",
        "latitude = location.latitude\n",
        "longitude = location.longitude\n",
        "print('The geograpical coordinate of Toronto are {}, {}.'.format(latitude, longitude))"
      ],
      "execution_count": 104,
      "outputs": [
        {
          "output_type": "stream",
          "text": [
            "The geograpical coordinate of Toronto are 43.6534817, -79.3839347.\n"
          ],
          "name": "stdout"
        }
      ]
    },
    {
      "cell_type": "markdown",
      "metadata": {
        "id": "QrVmJf53cZr4",
        "colab_type": "text"
      },
      "source": [
        "**Create a map of Toronto with neighborhoods superimposed on top**"
      ]
    },
    {
      "cell_type": "code",
      "metadata": {
        "id": "G3wsUGJdcV-Y",
        "colab_type": "code",
        "colab": {}
      },
      "source": [
        "map_toronto = folium.Map(location=[latitude, longitude], zoom_start=10)\n",
        "\n",
        "# add markers to map\n",
        "for lat, lng, borough, neighborhood in zip(Final_Df['Latitude'], Final_Df['Longitude'], Final_Df['Borough'], Final_Df['Neighborhood']):\n",
        "    label = '{}, {}'.format(neighborhood, borough)\n",
        "    label = folium.Popup(label, parse_html=True)\n",
        "    folium.CircleMarker(\n",
        "        [lat, lng],\n",
        "        radius=5,\n",
        "        popup=label,\n",
        "        color='blue',\n",
        "        fill=True,\n",
        "        fill_color='#3186cc',\n",
        "        fill_opacity=0.7).add_to(map_toronto)  \n",
        "    \n",
        "map_toronto"
      ],
      "execution_count": 0,
      "outputs": []
    },
    {
      "cell_type": "markdown",
      "metadata": {
        "id": "CjXHtVSEdAjb",
        "colab_type": "text"
      },
      "source": [
        "**Filter only boroughs that contain the word Toronto**"
      ]
    },
    {
      "cell_type": "code",
      "metadata": {
        "id": "1ItPSvExcpeY",
        "colab_type": "code",
        "colab": {
          "base_uri": "https://localhost:8080/",
          "height": 35
        },
        "outputId": "0ab799e0-260a-4b6f-9d5b-0de6404dc83f"
      },
      "source": [
        "# filter borough names that contain the word Toronto\n",
        "borough_names = list(Final_Df.Borough.unique())\n",
        "\n",
        "borough_with_toronto = []\n",
        "\n",
        "for x in borough_names:\n",
        "    if \"toronto\" in x.lower():\n",
        "        borough_with_toronto.append(x)\n",
        "        \n",
        "borough_with_toronto"
      ],
      "execution_count": 109,
      "outputs": [
        {
          "output_type": "execute_result",
          "data": {
            "text/plain": [
              "['East Toronto', 'Central Toronto', 'Downtown Toronto', 'West Toronto']"
            ]
          },
          "metadata": {
            "tags": []
          },
          "execution_count": 109
        }
      ]
    },
    {
      "cell_type": "code",
      "metadata": {
        "id": "cCm747gUc2i9",
        "colab_type": "code",
        "colab": {
          "base_uri": "https://localhost:8080/",
          "height": 219
        },
        "outputId": "1735e559-2b01-4214-e557-38d1a5d80cc4"
      },
      "source": [
        "# create a new DataFrame with only boroughs that contain the word Toronto\n",
        "toronto_df_new = Final_Df[Final_Df['Borough'].isin(borough_with_toronto)].reset_index(drop=True)\n",
        "print(toronto_df_new.shape)\n",
        "toronto_df_new.head()"
      ],
      "execution_count": 111,
      "outputs": [
        {
          "output_type": "stream",
          "text": [
            "(39, 5)\n"
          ],
          "name": "stdout"
        },
        {
          "output_type": "execute_result",
          "data": {
            "text/html": [
              "<div>\n",
              "<style scoped>\n",
              "    .dataframe tbody tr th:only-of-type {\n",
              "        vertical-align: middle;\n",
              "    }\n",
              "\n",
              "    .dataframe tbody tr th {\n",
              "        vertical-align: top;\n",
              "    }\n",
              "\n",
              "    .dataframe thead th {\n",
              "        text-align: right;\n",
              "    }\n",
              "</style>\n",
              "<table border=\"1\" class=\"dataframe\">\n",
              "  <thead>\n",
              "    <tr style=\"text-align: right;\">\n",
              "      <th></th>\n",
              "      <th>PostalCode</th>\n",
              "      <th>Borough</th>\n",
              "      <th>Neighborhood</th>\n",
              "      <th>Latitude</th>\n",
              "      <th>Longitude</th>\n",
              "    </tr>\n",
              "  </thead>\n",
              "  <tbody>\n",
              "    <tr>\n",
              "      <th>0</th>\n",
              "      <td>M4E</td>\n",
              "      <td>East Toronto</td>\n",
              "      <td>The Beaches</td>\n",
              "      <td>43.676357</td>\n",
              "      <td>-79.293031</td>\n",
              "    </tr>\n",
              "    <tr>\n",
              "      <th>1</th>\n",
              "      <td>M4K</td>\n",
              "      <td>East Toronto</td>\n",
              "      <td>The Danforth West , Riverdale</td>\n",
              "      <td>43.679557</td>\n",
              "      <td>-79.352188</td>\n",
              "    </tr>\n",
              "    <tr>\n",
              "      <th>2</th>\n",
              "      <td>M4L</td>\n",
              "      <td>East Toronto</td>\n",
              "      <td>India Bazaar , The Beaches West</td>\n",
              "      <td>43.668999</td>\n",
              "      <td>-79.315572</td>\n",
              "    </tr>\n",
              "    <tr>\n",
              "      <th>3</th>\n",
              "      <td>M4M</td>\n",
              "      <td>East Toronto</td>\n",
              "      <td>Studio District</td>\n",
              "      <td>43.659526</td>\n",
              "      <td>-79.340923</td>\n",
              "    </tr>\n",
              "    <tr>\n",
              "      <th>4</th>\n",
              "      <td>M4N</td>\n",
              "      <td>Central Toronto</td>\n",
              "      <td>Lawrence Park</td>\n",
              "      <td>43.728020</td>\n",
              "      <td>-79.388790</td>\n",
              "    </tr>\n",
              "  </tbody>\n",
              "</table>\n",
              "</div>"
            ],
            "text/plain": [
              "  PostalCode          Borough                     Neighborhood   Latitude  \\\n",
              "0        M4E     East Toronto                      The Beaches  43.676357   \n",
              "1        M4K     East Toronto    The Danforth West , Riverdale  43.679557   \n",
              "2        M4L     East Toronto  India Bazaar , The Beaches West  43.668999   \n",
              "3        M4M     East Toronto                  Studio District  43.659526   \n",
              "4        M4N  Central Toronto                    Lawrence Park  43.728020   \n",
              "\n",
              "   Longitude  \n",
              "0 -79.293031  \n",
              "1 -79.352188  \n",
              "2 -79.315572  \n",
              "3 -79.340923  \n",
              "4 -79.388790  "
            ]
          },
          "metadata": {
            "tags": []
          },
          "execution_count": 111
        }
      ]
    },
    {
      "cell_type": "code",
      "metadata": {
        "id": "wjO__qgddFiw",
        "colab_type": "code",
        "colab": {}
      },
      "source": [
        "# create map of Toronto using latitude and longitude values\n",
        "map_toronto = folium.Map(location=[latitude, longitude], zoom_start=10)\n",
        "\n",
        "# add markers to map\n",
        "for lat, lng, borough, neighborhood in zip(toronto_df_new['Latitude'], toronto_df_new['Longitude'], toronto_df_new['Borough'], toronto_df_new['Neighborhood']):\n",
        "    label = '{}, {}'.format(neighborhood, borough)\n",
        "    label = folium.Popup(label, parse_html=True)\n",
        "    folium.CircleMarker(\n",
        "        [lat, lng],\n",
        "        radius=5,\n",
        "        popup=label,\n",
        "        color='blue',\n",
        "        fill=True,\n",
        "        fill_color='#3186cc',\n",
        "        fill_opacity=0.7).add_to(map_toronto)  \n",
        "    \n",
        "map_toronto"
      ],
      "execution_count": 0,
      "outputs": []
    },
    {
      "cell_type": "code",
      "metadata": {
        "id": "8xTlCjzVdMJi",
        "colab_type": "code",
        "colab": {}
      },
      "source": [
        ""
      ],
      "execution_count": 0,
      "outputs": []
    }
  ]
}